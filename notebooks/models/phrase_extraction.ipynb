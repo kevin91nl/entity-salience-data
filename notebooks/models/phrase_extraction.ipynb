{
 "cells": [
  {
   "cell_type": "markdown",
   "metadata": {},
   "source": [
    "# Phrase extraction\n",
    "\n",
    "This notebook explains the phrase extraction architecture which can be used for entity salience detection. Here, phrase extraction is the task in which all non-overlapping phrases (word sequences) are extracted from a document for a given entity. Different entities will result in different phrases. The dataset contains manually labelled phrases per entity per document."
   ]
  },
  {
   "cell_type": "code",
   "execution_count": 2,
   "metadata": {},
   "outputs": [],
   "source": [
    "import os\n",
    "import pandas as pd\n",
    "import sys\n",
    "import string\n",
    "import nltk\n",
    "\n",
    "sys.path.append(os.path.join('..', '..'))\n",
    "\n",
    "from utilities.dataset import load_dataset, generate_embeddings, Embeddings, Tokenizer, TextEncoder, LowercaseTransformer, compute_phrase_mask, create_wikiphrase_dataset"
   ]
  },
  {
   "cell_type": "markdown",
   "metadata": {},
   "source": [
    "## Dataset\n",
    "\n",
    "In this section, the dataset is loaded and a train, test and validation set is created.\n",
    "\n",
    "### Load the dataset\n",
    "\n",
    "The first step is to load the data and the annotations. After loading the data, the annotations are available in a Dataframe."
   ]
  },
  {
   "cell_type": "code",
   "execution_count": 3,
   "metadata": {},
   "outputs": [
    {
     "name": "stderr",
     "output_type": "stream",
     "text": [
      "../../utilities/dataset.py:172: UserWarning: Boolean Series key will be reindexed to match DataFrame index.\n",
      "  df_selected = df_selected[df.annotator == annotator]\n",
      "../../utilities/dataset.py:174: UserWarning: Boolean Series key will be reindexed to match DataFrame index.\n",
      "  df_selected = df_selected[df.entity == entity]\n"
     ]
    }
   ],
   "source": [
    "df_glove = pd.read_csv(os.path.join('..', '..', 'data', 'glove', 'glove.6B.50d.txt'), sep=' ', quoting=3, header=None, index_col=0)\n",
    "word_embeddings = Embeddings(df_glove)\n",
    "word_tokenizer = Tokenizer(word_embeddings, nltk.word_tokenize, transformers=[LowercaseTransformer()])\n",
    "char_embeddings = Embeddings(generate_embeddings(list(string.printable), 16))\n",
    "char_tokenizer = Tokenizer(char_embeddings, lambda token: list(token))\n",
    "text_encoder = TextEncoder(word_tokenizer, char_tokenizer)\n",
    "df_phrases = load_dataset(os.path.join('..', '..', 'data', 'wikiphrase'))\n",
    "dataset = create_wikiphrase_dataset(df_phrases, text_encoder)"
   ]
  },
  {
   "cell_type": "code",
   "execution_count": 4,
   "metadata": {},
   "outputs": [
    {
     "data": {
      "text/html": [
       "<div>\n",
       "<style scoped>\n",
       "    .dataframe tbody tr th:only-of-type {\n",
       "        vertical-align: middle;\n",
       "    }\n",
       "\n",
       "    .dataframe tbody tr th {\n",
       "        vertical-align: top;\n",
       "    }\n",
       "\n",
       "    .dataframe thead th {\n",
       "        text-align: right;\n",
       "    }\n",
       "</style>\n",
       "<table border=\"1\" class=\"dataframe\">\n",
       "  <thead>\n",
       "    <tr style=\"text-align: right;\">\n",
       "      <th></th>\n",
       "      <th>annotator</th>\n",
       "      <th>entity</th>\n",
       "      <th>entity__char_ids</th>\n",
       "      <th>entity__char_tokens</th>\n",
       "      <th>entity__word_ids</th>\n",
       "      <th>entity__word_tokens</th>\n",
       "      <th>kb</th>\n",
       "      <th>kb__char_ids</th>\n",
       "      <th>kb__char_tokens</th>\n",
       "      <th>kb__word_ids</th>\n",
       "      <th>kb__word_tokens</th>\n",
       "      <th>phrase_mask</th>\n",
       "      <th>salience</th>\n",
       "      <th>text</th>\n",
       "      <th>text__char_ids</th>\n",
       "      <th>text__char_tokens</th>\n",
       "      <th>text__word_ids</th>\n",
       "      <th>text__word_tokens</th>\n",
       "    </tr>\n",
       "  </thead>\n",
       "  <tbody>\n",
       "    <tr>\n",
       "      <th>64</th>\n",
       "      <td>kevin</td>\n",
       "      <td>China</td>\n",
       "      <td>[[2, 3], [2, 42, 21, 22, 27, 14, 3], [2, 3]]</td>\n",
       "      <td>[[__START__, __END__], [__START__, C, h, i, n,...</td>\n",
       "      <td>[2, 136, 3]</td>\n",
       "      <td>[__START__, china, __END__]</td>\n",
       "      <td>China, officially the People's Republic of Chi...</td>\n",
       "      <td>[[2, 3], [2, 42, 21, 22, 27, 14, 3], [2, 77, 3...</td>\n",
       "      <td>[[__START__, __END__], [__START__, C, h, i, n,...</td>\n",
       "      <td>[2, 136, 5, 2395, 4, 73, 13, 878, 7, 136, 27, ...</td>\n",
       "      <td>[__START__, china, ,, officially, the, people,...</td>\n",
       "      <td>[0, 2, 1, 1, 1, 1, 1, 1, 1, 1, 1, 1, 1, 1, 1, ...</td>\n",
       "      <td>0.556667</td>\n",
       "      <td>North Korea has today agreed to return to the ...</td>\n",
       "      <td>[[2, 3], [2, 53, 28, 31, 33, 21, 3], [2, 50, 2...</td>\n",
       "      <td>[[__START__, __END__], [__START__, N, o, r, t,...</td>\n",
       "      <td>[2, 197, 578, 35, 377, 741, 8, 502, 8, 4, 2577...</td>\n",
       "      <td>[__START__, north, korea, has, today, agreed, ...</td>\n",
       "    </tr>\n",
       "  </tbody>\n",
       "</table>\n",
       "</div>"
      ],
      "text/plain": [
       "   annotator entity                              entity__char_ids  \\\n",
       "64     kevin  China  [[2, 3], [2, 42, 21, 22, 27, 14, 3], [2, 3]]   \n",
       "\n",
       "                                  entity__char_tokens entity__word_ids  \\\n",
       "64  [[__START__, __END__], [__START__, C, h, i, n,...      [2, 136, 3]   \n",
       "\n",
       "            entity__word_tokens  \\\n",
       "64  [__START__, china, __END__]   \n",
       "\n",
       "                                                   kb  \\\n",
       "64  China, officially the People's Republic of Chi...   \n",
       "\n",
       "                                         kb__char_ids  \\\n",
       "64  [[2, 3], [2, 42, 21, 22, 27, 14, 3], [2, 77, 3...   \n",
       "\n",
       "                                      kb__char_tokens  \\\n",
       "64  [[__START__, __END__], [__START__, C, h, i, n,...   \n",
       "\n",
       "                                         kb__word_ids  \\\n",
       "64  [2, 136, 5, 2395, 4, 73, 13, 878, 7, 136, 27, ...   \n",
       "\n",
       "                                      kb__word_tokens  \\\n",
       "64  [__START__, china, ,, officially, the, people,...   \n",
       "\n",
       "                                          phrase_mask  salience  \\\n",
       "64  [0, 2, 1, 1, 1, 1, 1, 1, 1, 1, 1, 1, 1, 1, 1, ...  0.556667   \n",
       "\n",
       "                                                 text  \\\n",
       "64  North Korea has today agreed to return to the ...   \n",
       "\n",
       "                                       text__char_ids  \\\n",
       "64  [[2, 3], [2, 53, 28, 31, 33, 21, 3], [2, 50, 2...   \n",
       "\n",
       "                                    text__char_tokens  \\\n",
       "64  [[__START__, __END__], [__START__, N, o, r, t,...   \n",
       "\n",
       "                                       text__word_ids  \\\n",
       "64  [2, 197, 578, 35, 377, 741, 8, 502, 8, 4, 2577...   \n",
       "\n",
       "                                    text__word_tokens  \n",
       "64  [__START__, north, korea, has, today, agreed, ...  "
      ]
     },
     "execution_count": 4,
     "metadata": {},
     "output_type": "execute_result"
    }
   ],
   "source": [
    "from sklearn.model_selection import train_test_split\n",
    "\n",
    "df_train, df_test = train_test_split(dataset, test_size=20, random_state=0)\n",
    "df_train.sample(1)"
   ]
  },
  {
   "cell_type": "code",
   "execution_count": null,
   "metadata": {},
   "outputs": [],
   "source": [
    "from skorch import NeuralNetClassifier"
   ]
  },
  {
   "cell_type": "code",
   "execution_count": null,
   "metadata": {},
   "outputs": [],
   "source": []
  }
 ],
 "metadata": {
  "kernelspec": {
   "display_name": "Python 3",
   "language": "python",
   "name": "python3"
  },
  "language_info": {
   "codemirror_mode": {
    "name": "ipython",
    "version": 3
   },
   "file_extension": ".py",
   "mimetype": "text/x-python",
   "name": "python",
   "nbconvert_exporter": "python",
   "pygments_lexer": "ipython3",
   "version": "3.7.1"
  }
 },
 "nbformat": 4,
 "nbformat_minor": 2
}
